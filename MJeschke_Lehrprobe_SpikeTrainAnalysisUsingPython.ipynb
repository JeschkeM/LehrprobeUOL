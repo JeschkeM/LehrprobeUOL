{
 "cells": [
  {
   "cell_type": "code",
   "execution_count": 1,
   "metadata": {
    "slideshow": {
     "slide_type": "skip"
    }
   },
   "outputs": [],
   "source": [
    "# NECESSARY PYTHON IMPORTS\n",
    "import numpy as np\n",
    "from matplotlib import pyplot as plt\n",
    "\n",
    "from IPython.display import display \n",
    "import ipywidgets as widgets \n",
    "from ipywidgets import interact, Layout\n",
    "\n",
    "from copy import copy\n",
    "\n",
    "class color: # https://stackoverflow.com/a/17303428 : how to use formatting for printing in python\n",
    "   DARKCYAN = '\\033[36m'\n",
    "   BLUE = '\\033[94m'\n",
    "   RED = '\\033[91m'\n",
    "   BOLD = '\\033[1m'\n",
    "   UNDERLINE = '\\033[4m'\n",
    "   END = '\\033[0m'\n",
    "\n",
    "epsilon = np.finfo(float).eps # to take care of binning issues due to machine precision\n",
    "\n",
    "def hideAxes(h_ax): # hack as RISE.js renders weirdly, create extra axes and then make them invisible\n",
    "    if not isinstance(h_ax, (list, np.ndarray)):\n",
    "        h_ax = [h_ax]\n",
    "    [cur_ax.axis('off') for cur_ax in h_ax]\n",
    "    \n",
    "    plt.show()\n",
    "    \n",
    "# default size of figures generated in the Ipython notebook\n",
    "plt.rcParams['figure.figsize'] = [14, 5]"
   ]
  },
  {
   "cell_type": "markdown",
   "metadata": {
    "slideshow": {
     "slide_type": "slide"
    }
   },
   "source": [
    "# <center>Spike train analysis using Python</center>\n",
    "<br/>\n",
    "<br/>\n",
    "<img src=\"images/spike_train.gif\" alt=\"cortical extracellular recording M8T_09-02-10_001\" width=70% style=\"margin-left:auto; margin-right:auto\">  \n",
    "<center><span style=\"color:LightSlateGray\">Dr. Marcus Jeschke</span></center>\n",
    "<center><span style=\"color:LightSlateGray\">Deutsches Primatenzentrum/Universitätsmedizin Göttingen</span></center>\n",
    "<br/>\n",
    "\n",
    "<h5>Lehrprobe - Oldenburg W2-Neurobiologie des Hörens; 2.11.2021<h5>"
   ]
  },
  {
   "cell_type": "markdown",
   "metadata": {
    "slideshow": {
     "slide_type": "slide"
    }
   },
   "source": [
    "#### Intro: Reminder - What are spike trains?\n",
    "- sequence of action potentials (or spikes) from neurons recorded electrically (via: pipettes/electrodes/electrode arrays) or optically (2PM)\n",
    "<h5> From raw data to neuronal spike trains</h5>\n",
    "<img src=\"images/Quiroga_PastPresentFutureSpikeSorting_Fig01.png\" alt=\"From raw data recorded with metal electrodes to neuronal spike trains\" width=45% style=\"margin-left:auto; margin-right:auto\">\n",
    "<div style=\"text-align: right;font-size:10pt\">Rey et al. 2015 <em>Brain. Res. Bull</em> http://dx.doi.org/10.1016/j.brainresbull.2015.04.007</div>\n",
    "\n"
   ]
  },
  {
   "cell_type": "markdown",
   "metadata": {
    "slideshow": {
     "slide_type": "notes"
    }
   },
   "source": [
    "Neurons represent and transmit information by firing series of action potentials, i.e. spike trains\n",
    "\n",
    "Only action potentials can be transmitted over larger distances other subthreshold fluctuations are severely attenuated and eventually die out. Action potentials on the other hand are regenerative processes and actively created.\n",
    "\n",
    "We will not go into how to go from the actually recorded data to the spike trains – filtering, identification, sorting\n",
    "single units vs. multi units."
   ]
  },
  {
   "cell_type": "markdown",
   "metadata": {
    "slideshow": {
     "slide_type": "subslide"
    }
   },
   "source": [
    "#### The \"central task\" for the analysis of spike trains\n",
    "\n",
    "- How does an animal/human make sense of the incoming spike trains to figure something out about the world in order to act?\n",
    "- What properties of the spike trains tell us something about the world (i.e. stimuli)? Are some of them better or worse?\n",
    "\n",
    "<img src=\"images/StimuliToNeuron.png\" width=40% style=\"margin-left:auto; margin-right:auto\">\n",
    "<br/>\n",
    "<center><strong> The task is to understand something about the neural code. </strong></center>\n"
   ]
  },
  {
   "cell_type": "markdown",
   "metadata": {
    "slideshow": {
     "slide_type": "notes"
    }
   },
   "source": [
    "```From Dayan and Abbott: Neural encoding, the subject of chapters 1 and 2, refers to the map from stimulus to response. ```\n",
    "We could measure the response of a neuron to a lot of different stimuli and predict how it would respond to other stimuli\n",
    "\n",
    "```Neural decoding refers to the reverse map, from response to stimulus, and the challenge is to reconstruct a stimulus, or certain aspects of that stimulus, from the spike sequences it evokes.```"
   ]
  },
  {
   "cell_type": "markdown",
   "metadata": {
    "slideshow": {
     "slide_type": "slide"
    }
   },
   "source": [
    "### Outline\n",
    "1. Firing rates\n",
    "2. Tuning curves\n",
    "3. Statistics of spike trains\n",
    "    - Poisson processes\n",
    "    - Fano Factor"
   ]
  },
  {
   "cell_type": "markdown",
   "metadata": {
    "slideshow": {
     "slide_type": "notes"
    }
   },
   "source": [
    "We will first look at how to estimate and calculate firing rates from spike trains.\n",
    "Extend the firing rates to the construction of tuning curves\n",
    "and will end with a description of statistical properties of spike trains introducing Poisson processes as simple model of neuronal firing dynamics and Fano factor to describe neuronal variability."
   ]
  },
  {
   "cell_type": "markdown",
   "metadata": {
    "slideshow": {
     "slide_type": "slide"
    }
   },
   "source": [
    "### Disclaimer\n",
    "\n",
    "This lecture is prepared as an interactive Jupyter notebook.\n",
    "\n",
    "GitHub repository: https://github.com/JeschkeM/LehrprobeUOL\n",
    "<br/>\n",
    "The notebook can be viewed via https://nbviewer.org/\n",
    "<br/>\n",
    "Working along requires a Jupyter http://jupyter.org or Anaconda https://www.anaconda.com/products/individual installation.\n",
    "\n",
    "The Python code shown is not a 'best practice' example of how to write Python code and functions. Rather, for readibility and conciseness I have not created proper doc strings, error handling etc.\n",
    "In the Github repository, some best practice examples are shown.\n",
    "\n",
    "\n"
   ]
  },
  {
   "cell_type": "markdown",
   "metadata": {
    "slideshow": {
     "slide_type": "subslide"
    }
   },
   "source": [
    "The code also tries to avoid using external libraries (requires *```numpy```* and *```matplotlib```*) as much as possible and instead generates code from first principles for illustrating concepts.\n",
    "\n",
    "Notable libraries include:\n",
    "- https://briansimulator.org/getting-started/<div style=\"float:right;\"><img src=\"images/brian_logo_big.webp\" width=120 style=\"margin-left:auto; margin-right:auto\"></div>\n",
    "<br/>\n",
    "<br/>\n",
    "- https://elephant.readthedocs.io/en/latest/<div style=\"float:right;\"><img src=\"images/elephant_logo_sidebar.png\" width=120 style=\"margin-left:auto; margin-right:auto\"></div>\n",
    "<br/>\n",
    "<br/>\n",
    "- https://pythonhosted.org/neuronpy/index.html \n",
    "<br/>\n",
    "&#8205; "
   ]
  },
  {
   "cell_type": "markdown",
   "metadata": {
    "slideshow": {
     "slide_type": "slide"
    }
   },
   "source": [
    "### 1. Firing rates\n",
    "\n",
    "Spike train: $\\{ t(i) \\} = \\{t_{1}, t_{2}, ... , t_{n}\\}$ stands for a number of spikes $n$ occuring at times $t(i)$ \n",
    "\n",
    "Could like e.g. like this:\n",
    "\n",
    "*```\n",
    "[0.1411, 0.1789, 0.5409, 0.5922, 0.7114, 0.9662, 1.2608, 1.3203, 1.3683, \n",
    "1.8849, 1.9083, 1.9509, 2.4425, 2.9103, 2.9317, 3.0405, 4.2415, 4.3468]```*\n",
    " \n",
    "or in a binary format (binned spike train): *```00000000110000000000000000001010000010000000000001```*\n",
    "<br/>\n",
    "&#8205; "
   ]
  },
  {
   "cell_type": "markdown",
   "metadata": {
    "slideshow": {
     "slide_type": "subslide"
    }
   },
   "source": [
    "Let us load our first spike train and look at it:\n",
    "\n",
    "*```\n",
    "trials_spike_times = np.loadtxt('data' + '/' + 'M13W1671_trials_spike_times.txt', delimiter = ',',skiprows = 1) \n",
    "```*\n",
    "\n",
    "\n",
    "Stimulus | Repetition | TrialNumber | Spike time [s]\n",
    "--- | --- | --- | ---\n",
    "18. | 1.  | 119. | **-0.212595** \n",
    "18. | 1.  | 119. |  **-0.069675**  \n",
    "18. | 1.  | 119. |  **0.299101**\n",
    "...\n",
    "3.  | 7.  | 21. | **0.237816**   \n",
    "3.  | 7.  | 21. |**0.271716** \n",
    "3.  | 7.  | 21. | **0.541293**  "
   ]
  },
  {
   "cell_type": "code",
   "execution_count": 2,
   "metadata": {
    "slideshow": {
     "slide_type": "-"
    }
   },
   "outputs": [
    {
     "data": {
      "image/png": "[encoded data removed]",
      "text/plain": [
       "<Figure size 432x288 with 2 Axes>"
      ]
     },
     "metadata": {
      "needs_background": "light"
     },
     "output_type": "display_data"
    }
   ],
   "source": [
    "# load data from a pure tone stimulation experiment, data recorded from auditory thalamus of an awake monkey\n",
    "trials_spike_times = np.loadtxt('data' + '/' + 'M13W1671_trials_spike_times.txt', delimiter = ',',skiprows = 1) \n",
    "\n",
    "# general parameters\n",
    "stimulus_duration = 0.25\n",
    "example_trial     = 95\n",
    "\n",
    "un_trials = np.unique(trials_spike_times[:,2]) # unique trials\n",
    "\n",
    "# example trial containing spike train aligned to stimulus onset \n",
    "example_spike_train = trials_spike_times[trials_spike_times[:,2] == un_trials[example_trial],3]\n",
    "\n",
    "# Plotting\n",
    "h_fig, h_ax = plt.subplots(nrows = 2, ncols = 1, figsize=(6,4), gridspec_kw = {'height_ratios':[10,1]})\n",
    "h_ax[0].eventplot(example_spike_train, colors='k', linelengths=0.9, linewidths=1) \n",
    "\n",
    "plt.setp(h_ax[0], yticks = [], ylabel = 'trial #', ylim = [0.5, 1.5], xlabel = 'time (s)', \\\n",
    "         xlim =[0, stimulus_duration + 0.05])# focus on stimulus duration]\n",
    "[spine.set_visible(False) for key, spine in h_ax[0].spines.items() if key in ['top', 'right']] # hide top and right spine\n",
    "\n",
    "hideAxes(h_ax[1]) # clean up"
   ]
  },
  {
   "cell_type": "markdown",
   "metadata": {
    "slideshow": {
     "slide_type": "-"
    }
   },
   "source": [
    "###### How to calculate a firing rate from the spike train?\n",
    "\n",
    "We could just count the spikes while the stimulus was presented and normalize by the stimulus duration to get the:\n",
    "\n",
    "<strong>Spike count rate</strong>: $r = n/T$"
   ]
  },
  {
   "cell_type": "code",
   "execution_count": 3,
   "metadata": {
    "slideshow": {
     "slide_type": "-"
    }
   },
   "outputs": [
    {
     "name": "stdout",
     "output_type": "stream",
     "text": [
      "spike count rate of the trial: 120.0 Hz\n",
      "\n",
      "\n"
     ]
    }
   ],
   "source": [
    "# calculate spike count after stimulus onset defined as 0 s and before or at the stimulus duration\n",
    "spike_count_rate = sum((example_spike_train > 0 ) & (example_spike_train <= stimulus_duration))/stimulus_duration\n",
    "\n",
    "print(f\"spike count rate of the trial: {spike_count_rate} Hz\")\n",
    "print(\"\\n\")"
   ]
  },
  {
   "cell_type": "markdown",
   "metadata": {
    "slideshow": {
     "slide_type": "subslide"
    }
   },
   "source": [
    "Clearly, there seems to be more dynamics than what we capture with a single number. How do we arrive at a time varying rate?\n",
    "\n",
    "- we could bin the spike trains into time windows of length $\\Delta t$ and count the spikes there"
   ]
  },
  {
   "cell_type": "code",
   "execution_count": 4,
   "metadata": {
    "slideshow": {
     "slide_type": "-"
    }
   },
   "outputs": [
    {
     "data": {
      "image/png": "[encoded data removed]",
      "text/plain": [
       "<Figure size 432x288 with 2 Axes>"
      ]
     },
     "metadata": {
      "needs_background": "light"
     },
     "output_type": "display_data"
    }
   ],
   "source": [
    "# time varying firing rate by counting spikes in bins\n",
    "binsize = 0.01 # 10 ms window length/bins\n",
    "\n",
    "xbin_edges = np.arange(0, stimulus_duration+binsize*2, binsize) # create array containing bin edges\n",
    "firing_rate_bins = np.histogram(example_spike_train, bins = xbin_edges)[0]/binsize # histogram counts the number of\n",
    "                                                                                   # occurences in a bin\n",
    "\n",
    "# Plotting\n",
    "def plotBinnedFiringRate(xbin_edges, firing_rate_bins, stimulus_duration): # create a function to reuse later\n",
    "    h_fig, h_ax = plt.subplots(nrows = 2, ncols = 1, figsize=(6,4), gridspec_kw = {'height_ratios':[10,2.5]})\n",
    "    h_ax[0].step(xbin_edges[:-1], firing_rate_bins, where = 'post')\n",
    "\n",
    "    plt.setp(h_ax[0], ylabel = 'rate (Hz)', xlabel = 'time (s)', \\\n",
    "             xlim =[0, stimulus_duration])# focus on stimulus duration]\n",
    "    \n",
    "    hideAxes(h_ax[1]) # clean up\n",
    "plotBinnedFiringRate(xbin_edges, firing_rate_bins, stimulus_duration)\n",
    "    "
   ]
  },
  {
   "cell_type": "markdown",
   "metadata": {
    "slideshow": {
     "slide_type": "slide"
    }
   },
   "source": [
    "What is a 'good' bin size? What happens if we change it?"
   ]
  },
  {
   "cell_type": "code",
   "execution_count": 5,
   "metadata": {
    "slideshow": {
     "slide_type": "-"
    }
   },
   "outputs": [
    {
     "data": {
      "application/vnd.jupyter.widget-view+json": {
       "model_id": "71ff203aac754d03afc10a60bd9241f5",
       "version_major": 2,
       "version_minor": 0
      },
      "text/plain": [
       "IntSlider(value=20, description='binsize (ms): ', max=20, min=2, step=2)"
      ]
     },
     "metadata": {},
     "output_type": "display_data"
    },
    {
     "data": {
      "application/vnd.jupyter.widget-view+json": {
       "model_id": "f62c07071bcf4021a744cabf29ea8cc4",
       "version_major": 2,
       "version_minor": 0
      },
      "text/plain": [
       "Button(description='Run!', layout=Layout(width='200px'), style=ButtonStyle(button_color='lightgreen'))"
      ]
     },
     "metadata": {},
     "output_type": "display_data"
    },
    {
     "data": {
      "image/png": "[encoded data removed]",
      "text/plain": [
       "<Figure size 432x288 with 2 Axes>"
      ]
     },
     "metadata": {
      "needs_background": "light"
     },
     "output_type": "display_data"
    },
    {
     "data": {
      "image/png": "[encoded data removed]",
      "text/plain": [
       "<Figure size 432x288 with 2 Axes>"
      ]
     },
     "metadata": {
      "needs_background": "light"
     },
     "output_type": "display_data"
    },
    {
     "data": {
      "image/png": "[encoded data removed]",
      "text/plain": [
       "<Figure size 432x288 with 2 Axes>"
      ]
     },
     "metadata": {
      "needs_background": "light"
     },
     "output_type": "display_data"
    }
   ],
   "source": [
    "# time varying firing rate by counting spikes in bins\n",
    "binsize = 0.01 # 10 ms bins\n",
    "\n",
    "# Widget for the spike rate\n",
    "binSlider = widgets.IntSlider(value=20, min=2, max=20, step=2, description='binsize (ms): '); \n",
    "display(binSlider);\n",
    "\n",
    "# button to change spike rate\n",
    "button = widgets.Button(description='Run!', layout=Layout(width='200px')); \n",
    "button.style.button_color = 'lightgreen'; \n",
    "display(button);\n",
    "\n",
    "def on_button_clicked(sender): \n",
    "    binsize = binSlider.value/1000 # gather rate from slider\n",
    "    \n",
    "    # calculation\n",
    "    xbin_edges = np.arange(0, stimulus_duration+binsize*2, binsize) # create array containing bin edges\n",
    "    firing_rate_bins = np.histogram(example_spike_train, bins = xbin_edges)[0]/binsize\n",
    "    \n",
    "    plotBinnedFiringRate(xbin_edges, firing_rate_bins, stimulus_duration) # plotting\n",
    "\n",
    "# run the calculation on click\n",
    "button.on_click(on_button_clicked)"
   ]
  },
  {
   "cell_type": "markdown",
   "metadata": {
    "slideshow": {
     "slide_type": "notes"
    }
   },
   "source": [
    "Recalculate the same with a much shorter bin size (20, 10, 2)\n",
    "\n",
    "This leaves us with the question of how to decide for a bin width and the placement of the bins and really we did not get at the $r(t)$. Rather, we calculated a spike count rate in each bin and the time varying firing rate of the neuron is estimated to be constant in each bin. This also leads us to the problem that if the bin becomes small enough there is only 1 spike in each bin."
   ]
  },
  {
   "cell_type": "markdown",
   "metadata": {
    "slideshow": {
     "slide_type": "subslide"
    }
   },
   "source": [
    "<h5> How can we get a smoothly varying firing rate $r(t)$?</h5>\n",
    "\n",
    "Use a window function to step through the spike train and generate a continuous function."
   ]
  },
  {
   "cell_type": "markdown",
   "metadata": {
    "slideshow": {
     "slide_type": "notes"
    }
   },
   "source": [
    "Any windowing function that integrates to 1 can be used (dirac delta, gaussian etc.)"
   ]
  },
  {
   "cell_type": "markdown",
   "metadata": {
    "slideshow": {
     "slide_type": "-"
    }
   },
   "source": [
    "###### Gaussian window\n",
    "\n",
    "\n",
    "Gaussian function: $ {g}(x) = \\frac{1}{\\sigma\\sqrt{2\\pi}} \\operatorname{exp}\\left({{{ -\\frac{1}{2} \\frac{\\left( {x - \\mu } \\right)^2}{\\sigma^2} }}}\\right) $\n",
    "<br/>\n",
    "We can create a binary spike train and convolve it with the gaussian window to estimate the firing rate over time."
   ]
  },
  {
   "cell_type": "code",
   "execution_count": 6,
   "metadata": {
    "slideshow": {
     "slide_type": "-"
    }
   },
   "outputs": [],
   "source": [
    "def gaussian_kernel(sigma, mu, bandwidth, dt, Tmin, Tmax):\n",
    "    \n",
    "    x = np.arange(Tmin, Tmax+dt, dt) \n",
    "    \n",
    "    x1 = sigma * np.sqrt(2 * np.pi)\n",
    "    x2 = np.exp(-(x - mu)**2/(2 * sigma**2))\n",
    "    gaussian_filter = (1/x1)*x2\n",
    "\n",
    "    bandwidth_x = np.all((x > -bandwidth/2-epsilon, x <= bandwidth/2+epsilon),0)\n",
    "    gaussian_kernel = gaussian_filter[bandwidth_x] \n",
    "    \n",
    "    return gaussian_kernel, x[bandwidth_x]\n",
    "\n",
    "def convSpikeTrainWindow(spike_train_binary, window):\n",
    "    # convolution with np.convolve results in a longer array than the stimulus\n",
    "    convolution_full = np.convolve(spike_train_binary, window)\n",
    "\n",
    "    window_len = len(window)\n",
    "    trim_len   = int(window_len/2)\n",
    "    # trim the convolved signal to signal length\n",
    "    firing_rate_smooth = convolution_full[trim_len:-trim_len:]\n",
    "    \n",
    "    return firing_rate_smooth"
   ]
  },
  {
   "cell_type": "code",
   "execution_count": 26,
   "metadata": {},
   "outputs": [
    {
     "data": {
      "image/png": "[encoded data removed]",
      "text/plain": [
       "<Figure size 1008x360 with 4 Axes>"
      ]
     },
     "metadata": {
      "needs_background": "light"
     },
     "output_type": "display_data"
    }
   ],
   "source": [
    "# Variables\n",
    "sigma = 0.005\n",
    "bandwidth = 0.04\n",
    "mu = 0\n",
    "\n",
    "Tmin, Tmax = -0.20, 0.20\n",
    "binsize = 0.001\n",
    "\n",
    "# use the spike count method from above to generate a binary spike train\n",
    "xbin_edges_conv = np.arange(0, stimulus_duration, binsize)\n",
    "spike_train_binary = np.histogram(example_spike_train, bins = xbin_edges_conv)[0]\n",
    "\n",
    "# gaussian window\n",
    "gaussian_filter, x = gaussian_kernel(sigma, mu, Tmax*2, binsize, Tmin, Tmax)\n",
    "gauss_kern, gauss_x = gaussian_kernel(sigma, mu, bandwidth, binsize, Tmin, Tmax)\n",
    "\n",
    "# calculate the convolution of the spike train and our gaussian window\n",
    "firing_rate_smooth = convSpikeTrainWindow(spike_train_binary, gauss_kern)\n",
    "\n",
    "# Plotting\n",
    "h_fig, h_ax = plt.subplots(nrows = 2, ncols = 2,  gridspec_kw = {'height_ratios':[10,1.5]})\n",
    "h_ax[0][0].plot(x, gaussian_filter, linewidth=0.5, color='lightgray', label = 'gaussian filter')\n",
    "h_ax[0][0].plot(gauss_x, gauss_kern, ':', marker='.', color = 'black', label = 'gaussian kernel')\n",
    "\n",
    "plt.setp(h_ax[0][0], ylabel = 'filter coefficients', title = 'Gaussian filter',\\\n",
    "         xlabel = 'time (s)', xlim =[Tmin, Tmax])\n",
    "\n",
    "h_ax[0][0].legend()\n",
    "\n",
    "h_ax[0][1].plot(xbin_edges_conv[:-1]+binsize/2, firing_rate_smooth, linewidth=1, color='gray')\n",
    "plt.setp(h_ax[0][1], ylabel = 'rate (Hz)', title = 'Estimated firing rate with gaussian window',\\\n",
    "         xlabel = 'time (s)', xlim =[0, stimulus_duration])\n",
    "\n",
    "hideAxes(h_ax[1]) # clean up"
   ]
  },
  {
   "cell_type": "markdown",
   "metadata": {
    "slideshow": {
     "slide_type": "subslide"
    }
   },
   "source": [
    "Let us put our spike train and various methods to calculate a time varying firing rate together."
   ]
  },
  {
   "cell_type": "code",
   "execution_count": 27,
   "metadata": {
    "slideshow": {
     "slide_type": "-"
    }
   },
   "outputs": [
    {
     "data": {
      "image/png": "[encoded data removed]",
      "text/plain": [
       "<Figure size 720x432 with 4 Axes>"
      ]
     },
     "metadata": {
      "needs_background": "light"
     },
     "output_type": "display_data"
    }
   ],
   "source": [
    "# Plotting\n",
    "h_fig, h_ax = plt.subplots(nrows = 4, ncols = 1, figsize=(10,6), gridspec_kw = {'height_ratios':[3, 3, 3, 2]})\n",
    "h_ax[0].eventplot(example_spike_train, colors='k', linelengths=0.9, linewidths=1, label=f\"Spike train\")\n",
    "h_ax[0].set_ylabel('trial #')\n",
    "\n",
    "plt.setp(h_ax[0], yticks = [], ylabel = 'spikes', ylim = [0.5, 1.5]) \n",
    "\n",
    "h_ax[1].step(xbin_edges[:-1], firing_rate_bins, where = 'post', label=f\"firing rate in bins\")\n",
    "h_ax[1].set_ylabel('rate (Hz)')\n",
    "\n",
    "h_ax[2].plot(xbin_edges_conv[:-1]+binsize/2, firing_rate_smooth, linewidth=1, color='gray', label=f\"gaussian window\")\n",
    "h_ax[2].set_ylabel('rate (Hz)')\n",
    "h_ax[2].set_xlabel('time (s)')\n",
    "\n",
    "[plt.setp(cur_ax.get_xticklabels(), visible=False) for cur_ax in h_ax[0:2]]\n",
    "plt.setp(h_ax[0:3], xlim = [0, stimulus_duration]) # focus on stimulus duration\n",
    "\n",
    "[(cur_ax.spines['top'].set_visible(False), cur_ax.spines['right'].set_visible(False)) for cur_ax in h_ax[0:3]]\n",
    "\n",
    "lines_labels = [ax.get_legend_handles_labels() for ax in h_fig.axes]\n",
    "lines, labels = [sum(lol, []) for lol in zip(*lines_labels)]\n",
    "h_ax[2].legend(lines, labels, loc = 'upper left', ncol=3)\n",
    "\n",
    "hideAxes(h_ax[3]) # clean up"
   ]
  },
  {
   "cell_type": "markdown",
   "metadata": {
    "slideshow": {
     "slide_type": "slide"
    }
   },
   "source": [
    "### 2. Tuning curves\n",
    "\n",
    "A tuning curve describes neuronal responses in relation to stimulus properties such as frequency, sound level etc.\n",
    "\n",
    "Tuning curves are usually based on the presentation of multiple trials of a given stimulus. \n",
    "\n",
    "<img src=\"images/M13W1671_Raster.png\" width=40% style=\"margin-left:auto; margin-right:auto\">\n",
    "\n",
    "Then we can expand the <strong>spike count rate</strong>: $r = n/T$ \n",
    "to multiple trials to get the <strong>average firing rate:</strong> $\\langle r \\rangle = \\frac{\\langle n \\rangle}{T}$, with $\\langle \\cdot \\rangle$ denoting the average.\n",
    "\n",
    "The tuning curve is then the average firing rate as a function of the stimulus or stimulus property: $\\langle r \\rangle = f(s)$"
   ]
  },
  {
   "cell_type": "markdown",
   "metadata": {
    "slideshow": {
     "slide_type": "notes"
    }
   },
   "source": [
    "spike trains differ between presentations: there is \"noise\" in spike trains\n",
    "thus a stimulus gets many different spike trains seemingly randomly\n",
    "the noise leads to a probabilistic formulation of how spike trains correspond to events in the world (stimuli)\n",
    "\n",
    "\n",
    "Post-stimulus time histogram (PSTH): count spikes in bin, normalize by number of repetitions\n",
    "\n",
    "gives firing rate or probability of firing per unit time (bin) as a function of time"
   ]
  },
  {
   "cell_type": "code",
   "execution_count": 9,
   "metadata": {
    "slideshow": {
     "slide_type": "subslide"
    }
   },
   "outputs": [],
   "source": [
    "def avg_firing_rate(spike_counts, duration):\n",
    "        return np.mean(spike_counts)/duration"
   ]
  },
  {
   "cell_type": "code",
   "execution_count": 10,
   "metadata": {
    "slideshow": {
     "slide_type": "-"
    }
   },
   "outputs": [
    {
     "name": "stdout",
     "output_type": "stream",
     "text": [
      "The \u001b[1mbest frequency\u001b[0m of the neuron is 9.85 kHz\n"
     ]
    },
    {
     "data": {
      "image/png": "[encoded data removed]",
      "text/plain": [
       "<Figure size 1008x360 with 2 Axes>"
      ]
     },
     "metadata": {
      "needs_background": "light"
     },
     "output_type": "display_data"
    }
   ],
   "source": [
    "# load the data of a frequency tuning experiment from a thalamic neuron of an awake marmoset\n",
    "stimulus_frequencies = np.loadtxt('data' + '/' + 'M13W1671_stimuli.txt', skiprows = 1) \n",
    "trials_spike_times   = np.loadtxt('data' + '/' + 'M13W1671_trials_spike_times.txt', delimiter = ',',skiprows = 1) \n",
    "\n",
    "# general parameters\n",
    "stimulus_duration = 0.25\n",
    "n_stimuli = len(stimulus_frequencies) # or unique entries in the first column of trials_spike_times\n",
    "n_rep     = max(trials_spike_times[:,1])\n",
    "\n",
    "# return unique rows consisting of a stimulus index and trial ID\n",
    "un_trials = np.unique(trials_spike_times[:,[0,2]], axis = 0) \n",
    "               \n",
    "# collect spike counts per trial during stimulus presentation\n",
    "trial_spike_counts = np.zeros(len(un_trials))\n",
    "trains_to_plot = []\n",
    "for idxTrial, curTrial in enumerate(un_trials[:,1]):\n",
    "    cur_trial_spike_times = trials_spike_times[trials_spike_times[:,2] == curTrial,3]\n",
    "    trial_spike_counts[idxTrial] = sum((cur_trial_spike_times > 0) & (cur_trial_spike_times <= stimulus_duration))\n",
    "    \n",
    "    trains_to_plot.append(trials_spike_times[trials_spike_times[:,2] == curTrial,3]) # keep a reference for plotting\n",
    "\n",
    "# calculate the average firing rate per stimulus\n",
    "firing_rate = np.zeros(len(stimulus_frequencies))\n",
    "for idxStim, curStim in enumerate(np.unique(un_trials[:,0])):\n",
    "    firing_rate[idxStim] = avg_firing_rate(trial_spike_counts[un_trials[:,0] == curStim], stimulus_duration)    \n",
    "    \n",
    "# identify the peak firing rate to get the stimulus that drives the neuron best   \n",
    "best_frequency = np.round(stimulus_frequencies[np.argmax(firing_rate)]/1000,2)\n",
    "print(f\"The {color.BOLD}best frequency{color.END} of the neuron is {best_frequency} kHz\")\n",
    "    \n",
    "# Plotting\n",
    "h_fig, h_ax = plt.subplots(nrows = 2, ncols = 1,  gridspec_kw = {'height_ratios':[10,1.5]})\n",
    "h_ax[0].plot(np.arange(n_stimuli), firing_rate,\".-\")\n",
    "\n",
    "# put a useful label on the abscissa\n",
    "xticks = h_ax[0].get_xticks().astype(int)\n",
    "xticks = xticks[(xticks >= 0) & (xticks < n_stimuli)]\n",
    "\n",
    "plt.setp(h_ax[0], xticks = xticks, xticklabels = (np.round(stimulus_frequencies[xticks]/1000,2)),\\\n",
    "        ylabel ='average firing rate (spikes/s)', xlabel ='frequency (kHz)', xlim = [-0.5, n_stimuli-0.5]) \n",
    "\n",
    "hideAxes(h_ax[1])"
   ]
  },
  {
   "cell_type": "markdown",
   "metadata": {
    "slideshow": {
     "slide_type": "subslide"
    }
   },
   "source": [
    "Let us also create a raster plot to check our calculations:"
   ]
  },
  {
   "cell_type": "code",
   "execution_count": 11,
   "metadata": {
    "scrolled": true,
    "slideshow": {
     "slide_type": "-"
    }
   },
   "outputs": [
    {
     "data": {
      "image/png": "[encoded data removed]",
      "text/plain": [
       "<Figure size 432x432 with 4 Axes>"
      ]
     },
     "metadata": {
      "needs_background": "light"
     },
     "output_type": "display_data"
    }
   ],
   "source": [
    "# Plotting\n",
    "h_fig, h_ax = plt.subplots(nrows = 2, ncols = 2, figsize=(6,6), gridspec_kw = {'height_ratios':[10,1]})\n",
    "h_ax[0][0].eventplot(trains_to_plot, colors='k', linelengths=0.9, linewidths=1)\n",
    "\n",
    "h_ax[0][1].plot(trials_spike_times[:,3], trials_spike_times[:,2], linestyle = 'None', marker = '.', color='gray')\n",
    "\n",
    "# put a useful label on the ordinate\n",
    "yticks = np.arange(0,n_rep*n_stimuli,n_rep)\n",
    "\n",
    "plt.setp(h_ax[0][1], yticks = yticks, yticklabels = np.round(stimulus_frequencies[(yticks / n_rep).astype(int)]/1000, 2),\\\n",
    "        ylabel = 'frequency [kHz]', xlabel = 'time (s)')\n",
    "plt.setp(h_ax[0][0], ylabel = 'trial #', xlabel = 'time (s)')\n",
    "plt.setp(h_ax[0], xlim = [0, stimulus_duration]) # focus on stimulus duration\n",
    "\n",
    "plt.tight_layout()\n",
    "\n",
    "hideAxes(h_ax[1])"
   ]
  },
  {
   "cell_type": "markdown",
   "metadata": {
    "slideshow": {
     "slide_type": "notes"
    }
   },
   "source": [
    "##### Spike train recorded after stimulation with xxxx\n",
    "\n",
    "- spike trains differ between presentations: __there is \"noise\" in spike trains__\n",
    "- thus a stimulus gets many different spike trains seemingly randomly\n",
    "\n",
    "the noise leads to a probabilistic formulation of how spike trains correspond to events in the world (stimuli)\n",
    "\n",
    "\n",
    "Post-stimulus time histogram (PSTH): count spikes in bin, normalize by number of repetitions\n",
    "- gives firing rate or probability of firing per unit time (bin) as a function of time"
   ]
  },
  {
   "cell_type": "markdown",
   "metadata": {
    "slideshow": {
     "slide_type": "slide"
    }
   },
   "source": [
    "<img src=\"images/StimuliToResponse.png\" width=50% style=\"margin-left:auto; margin-right:auto\">"
   ]
  },
  {
   "cell_type": "markdown",
   "metadata": {
    "slideshow": {
     "slide_type": "slide"
    }
   },
   "source": [
    "### 3. Spike train statistics\n"
   ]
  },
  {
   "cell_type": "markdown",
   "metadata": {
    "slideshow": {
     "slide_type": "slide"
    }
   },
   "source": [
    "##### 3.1 A model of real spike trains: Poisson spike train\n",
    "\n",
    "Provides a simple model of spike firing statistics.\n",
    "\n",
    "Definition of a Poisson process: occurence of a spike occurs with some probability per unit time (rate). The rate can be time dependent but independent of occurence of other spikes.\n",
    "\n",
    "How to recognize a <strong><em>Poisson</em></strong> process? \n",
    "- check for time interval $0$ to $T$\n",
    "\n",
    "- Average number of spikes $\\langle N \\rangle$ is time integral of the firing rate: $\\langle N\\rangle = \\int_{0}^{T}dt\\,r(t)$\n",
    "\n",
    "- Variance of spike count is equal to the mean! $\\sigma^2_{N} = \\langle N\\rangle$\n",
    "\n",
    "<strong><em>Fano factor</em></strong> describes the relationship of variance to the mean: $$ F = \\frac{\\sigma^2_{N}}{\\langle N\\rangle} = 1 $$\n",
    "\n"
   ]
  },
  {
   "cell_type": "markdown",
   "metadata": {},
   "source": [
    "The simplest stochastic description of neuronal firing is a Poisson process.\n",
    "In the cortex, the timing of successive action potentials is highly irregular."
   ]
  },
  {
   "cell_type": "markdown",
   "metadata": {
    "slideshow": {
     "slide_type": "notes"
    }
   },
   "source": [
    "How this set of slides is supposed to work:\n",
    "    \n",
    "    1. explain what a point process and the special case of the poisson process (specifically poisson process) is\n",
    "    2. write down the formula for the poisson process and related factors (mean, variance, fano factor)\n",
    "    3. generate code to create poisson process based spike trains\n",
    "    4. test with code whether the formula are correct"
   ]
  },
  {
   "cell_type": "markdown",
   "metadata": {
    "slideshow": {
     "slide_type": "subslide"
    }
   },
   "source": [
    "###### Homogeneous poisson process\n",
    "\n",
    "- instantaneous firing rate is constant over time $r(t) = r $\n",
    "    \n",
    "Thus the spike count in a time interval $\\Delta t$ becomes: $$\\langle N\\rangle = r\\Delta t$$\n",
    "The variance in the time interval $\\Delta t$ becomes: $$\\sigma^2_{N} = r\\Delta t$$\n",
    "\n",
    "What is the probability of observing 1 spike within a small time window? $P(1\\,in\\, \\Delta t) = r\\Delta t$\n",
    "if $\\Delta t$ is very small, i.e. when $r\\Delta t\\ll 1$.\n"
   ]
  },
  {
   "cell_type": "code",
   "execution_count": 12,
   "metadata": {
    "slideshow": {
     "slide_type": "-"
    }
   },
   "outputs": [],
   "source": [
    "def poissonSpikeTrain(rate, dt, timeInterval, seed = 10):\n",
    "    # generate a homogenous Poisson spike train given rate [Hz] and timestep dt [s]\n",
    "\n",
    "    tvec = np.arange(timeInterval[0], timeInterval[1], dt) # vector of timestamps\n",
    "\n",
    "    pspike = rate * dt # probability of generating a spike in bin/timestep\n",
    "    np.random.seed(seed) # reset random number generator to reproducible state\n",
    "    spk_poiss = np.random.rand(len(tvec)) # random numbers between 0 and 1\n",
    "    spk_poiss_idx = spk_poiss < pspike # boolean array of bins with spike\n",
    "    spk_poiss_t = tvec[spk_poiss_idx] # use boolean indexing to get corresponding spike times\n",
    "\n",
    "    return spk_poiss_t"
   ]
  },
  {
   "cell_type": "markdown",
   "metadata": {
    "slideshow": {
     "slide_type": "subslide"
    }
   },
   "source": [
    "##### Let us verify computationally the properties of a poisson process\n",
    "- generate 1000 different poisson spike trains, calculate mean, variance and Fano factor for the number of spikes in the ensemble of spike trains\n",
    "- Do the values calculated fit with the expected values?"
   ]
  },
  {
   "cell_type": "markdown",
   "metadata": {
    "slideshow": {
     "slide_type": "notes"
    }
   },
   "source": [
    "do this by changing the seed otherwise our function will always give the same spike train\n",
    "\n",
    "do this again by adding a seed offset factor \n",
    "e.g.: ```poissonSpikeTrain(rate, dt, t, seed = idx_train))```\n"
   ]
  },
  {
   "cell_type": "code",
   "execution_count": 23,
   "metadata": {
    "slideshow": {
     "slide_type": "-"
    }
   },
   "outputs": [
    {
     "name": "stdout",
     "output_type": "stream",
     "text": [
      "Average number of spikes and standard deviation of spike numbers across 1000 spike trains\n",
      "Given firing rate: 50 Hz and spike train length: 10 s\n",
      "Average number of spikes: 501.16\n",
      "Variance:                 503.77239999999995\n",
      "\u001b[1mFano factor\u001b[0m: 1.0052127065208714\n",
      "\n",
      "\n"
     ]
    }
   ],
   "source": [
    "# general parameters\n",
    "n_trains = 1000\n",
    "dt = 0.001   # time step in seconds\n",
    "t  = [0, 10] # time interval (length) of spike train to generate   \n",
    "rate = 50 # firing rate of the poisson process in Hz\n",
    "\n",
    "# generate poisson spike trains\n",
    "spk_poiss_trains = []\n",
    "for idx_train in range(n_trains):\n",
    "    spk_poiss_trains.append(poissonSpikeTrain(rate, dt, t, seed = idx_train))\n",
    "\n",
    "nSpikList = [len(cur_poiss_ts) for cur_poiss_ts in spk_poiss_trains] # how many spikes within each train?\n",
    "\n",
    "# DISPLAY THE RESULTS\n",
    "print(f\"Average number of spikes and standard deviation of spike numbers across {n_trains} spike trains\")\n",
    "print(f\"Given firing rate: {rate} Hz and spike train length: {max(t)} s\")\n",
    "print(f\"Average number of spikes: {np.nanmean(nSpikList)}\")\n",
    "print(f\"Variance:                 {np.nanstd(nSpikList)**2}\")\n",
    "print(f\"{color.BOLD}Fano factor{color.END}: {np.nanstd(nSpikList)**2/np.nanmean(nSpikList)}\")\n",
    "print(\"\\n\") # trick to let jupyter notebook slides render completely in slides mode"
   ]
  },
  {
   "cell_type": "markdown",
   "metadata": {
    "slideshow": {
     "slide_type": "subslide"
    }
   },
   "source": [
    "The homogenous poisson process does not have a refractory period. So how well does this work for recorded spike trains?\n",
    "\n",
    "Let us calculate the mean and variance of the number of spikes observed for different stimuli and plot them."
   ]
  },
  {
   "cell_type": "code",
   "execution_count": 14,
   "metadata": {
    "scrolled": true,
    "slideshow": {
     "slide_type": "-"
    }
   },
   "outputs": [
    {
     "data": {
      "image/png": "[encoded data removed]",
      "text/plain": [
       "<Figure size 1008x360 with 4 Axes>"
      ]
     },
     "metadata": {
      "needs_background": "light"
     },
     "output_type": "display_data"
    }
   ],
   "source": [
    "# let us load another example of a frequency tuning experiment\n",
    "stimulus_frequencies = np.loadtxt('data' + '/' + 'M54T2710_stimuli.txt', skiprows = 1) \n",
    "trials_spike_times   = np.loadtxt('data' + '/' + 'M54T2710_trials_spike_times.txt', delimiter = ',',skiprows = 1) \n",
    "\n",
    "# general parameters\n",
    "stimulus_duration = 0.25\n",
    "n_stimuli = len(stimulus_frequencies) # or unique entries in the first column of trials_spike_times\n",
    "n_rep     = int(max(trials_spike_times[:,1]))\n",
    "\n",
    "n_trials = n_stimuli * n_rep\n",
    "spike_train_stat = np.zeros((n_stimuli,2))\n",
    "for curStim in range(n_stimuli):\n",
    "    nSpik = np.zeros(n_rep)\n",
    "    cur_stim_spike_times = trials_spike_times[np.argwhere(trials_spike_times[:,0] == curStim + 1),[1,3]]\n",
    "    if cur_stim_spike_times.size > 0:\n",
    "        for curRep in range(n_rep):\n",
    "            cur_trial_spike_times = cur_stim_spike_times[np.argwhere(cur_stim_spike_times[:,0] == curRep + 1),1]\n",
    "            if cur_trial_spike_times.size > 0:\n",
    "               nSpik[curRep] = sum((cur_trial_spike_times > 0) & (cur_trial_spike_times <= stimulus_duration))\n",
    "            \n",
    "    spike_train_stat[curStim,:] = [np.nanmean(nSpik), np.nanstd(nSpik)**2]  \n",
    "\n",
    "# Plotting\n",
    "h_fig, h_ax = plt.subplots(nrows = 2, ncols = 2,  gridspec_kw = {'height_ratios':[10,1.5]})\n",
    "h_ax[0][0].plot(trials_spike_times[:,3], trials_spike_times[:,2], \\\n",
    "                linestyle = 'None', marker = '.', color='gray') # raster plot of the frequency tuning experiment\n",
    "\n",
    "# put a useful label on the ordinate\n",
    "yticks = np.arange(0,n_rep*n_stimuli,n_rep)\n",
    "plt.setp(h_ax[0][0], xlim = [0, stimulus_duration], xlabel = 'time (s)',\\\n",
    "         yticks = yticks, ylabel = 'frequency [kHz]',\\\n",
    "         yticklabels = np.round(stimulus_frequencies[(yticks / n_rep).astype(int)]/1000, 2))\n",
    "\n",
    "h_ax[0][1].loglog(spike_train_stat[:,0], spike_train_stat[:,1], '.',\\\n",
    "                  color = 'gray',  label = \"data\") # plot of variance vs. mean number of spikes\n",
    "\n",
    "xlims, ylims = h_ax[0][1].get_xlim(), h_ax[0][1].get_ylim()\n",
    "ax_lims = [min(xlims[0], ylims[0]), max(xlims[1], ylims[1])]\n",
    "\n",
    "h_ax[0][1].plot(ax_lims, ax_lims, color = 'darkgray', label = r\"$\\frac{\\sigma^2_{N}}{\\langle N \\rangle} = 1$\")\n",
    "h_ax[0][1].legend()\n",
    "\n",
    "plt.setp(h_ax[0][1], xlabel = 'average: number of spikes', xlim = ax_lims, ylim = ax_lims,\\\n",
    "         ylabel = 'variance: number of spikes', aspect = 'equal', adjustable = 'box')\n",
    "\n",
    "hideAxes(h_ax[1]) # clean up"
   ]
  },
  {
   "cell_type": "markdown",
   "metadata": {
    "slideshow": {
     "slide_type": "-"
    }
   },
   "source": [
    "<strong>Poisson models of neuronal responses often provide a surprisingly good approximation especially given how simple of a model the poisson processes are.</strong>\n",
    "<br/>\n",
    "&#8205; "
   ]
  },
  {
   "cell_type": "markdown",
   "metadata": {
    "slideshow": {
     "slide_type": "slide"
    }
   },
   "source": [
    "### Summary - Spike train analysis using Python\n",
    "\n",
    "- Firing rates<div style=\"float:right;\"><img src=\"images/firingRate.png\" width=180 style=\"margin-left:auto; margin-right:auto\"></div>\n",
    "<br/>\n",
    "<br/>\n",
    "- Tuning curves<div style=\"float:right;\"><img src=\"images/tuningCurve_M13W1671.png\" width=180 style=\"margin-left:auto; margin-right:auto\"></div>\n",
    "<br/>\n",
    "<br/>\n",
    "- Poisson models of neural spike trains<div style=\"float:right;\"><img src=\"images/fanoFactor_M54T2710.png\" width=180 style=\"margin-left:auto; margin-right:auto\"></div>\n",
    "<br/>\n",
    "\n",
    "Github repository of the lecture: https://github.com/JeschkeM/LehrprobeUOL\n",
    "\n",
    "Bonus: can you spot the bug in the firing rate evaluation code? 2nd bonus: can you fix it?\n",
    "\n",
    "\n",
    "Email me: mjeschke@dpz.eu"
   ]
  },
  {
   "cell_type": "markdown",
   "metadata": {
    "slideshow": {
     "slide_type": "skip"
    }
   },
   "source": [
    "##### Convolution\n",
    "\n",
    "\n",
    "* Example: convolution of 2 rectangular functions $f(t)$ and $h(t)$ resulting in the convolved function $g(t)$\n",
    "\n",
    "$$\n",
    "\\begin{align*}\n",
    "f(t) &= \\operatorname{rect}\\left(0.5 . t\\right) \\\\\n",
    "h(t) &= \\operatorname{rect}\\left(0.5 . t\\right) \\\\\n",
    "\\\\\n",
    "g(t) &= f(t) \\ast h(t)\n",
    "\\end{align*}\n",
    "$$\n",
    "\n",
    "<img src=\"images/convolution.gif\" width=480  style=\"margin-left:auto; margin-right:auto\">"
   ]
  },
  {
   "cell_type": "markdown",
   "metadata": {
    "slideshow": {
     "slide_type": "skip"
    }
   },
   "source": [
    "$$(f \\ast g)[n] = \t\\sum_{ m=0}^{N-1}f[m] g[n−m]  $$\n",
    "\n",
    "Definition of convolution https://greenteapress.com/thinkdsp/html/thinkdsp009.html\n",
    "\n",
    "Definition of linear filter in Dayan-Abbott to get time varying firing rate:\n",
    "\n",
    "$r_{approx}(t) = \\int_{-\\infty}^{\\infty} d\\tau \\omega(\\tau)p(t - \\tau)$"
   ]
  }
 ],
 "metadata": {
  "celltoolbar": "Slideshow",
  "kernelspec": {
   "display_name": "Python 3",
   "language": "python",
   "name": "python3"
  },
  "language_info": {
   "codemirror_mode": {
    "name": "ipython",
    "version": 3
   },
   "file_extension": ".py",
   "mimetype": "text/x-python",
   "name": "python",
   "nbconvert_exporter": "python",
   "pygments_lexer": "ipython3",
   "version": "3.7.4"
  },
  "nbpresent": {
   "themes": {
    "default": "4f7ce240-d3fc-4057-a582-a566732b4594",
    "theme": {
     "4f7ce240-d3fc-4057-a582-a566732b4594": {
      "id": "4f7ce240-d3fc-4057-a582-a566732b4594",
      "palette": {
       "19cc588f-0593-49c9-9f4b-e4d7cc113b1c": {
        "id": "19cc588f-0593-49c9-9f4b-e4d7cc113b1c",
        "rgb": [
         252,
         252,
         252
        ]
       },
       "31af15d2-7e15-44c5-ab5e-e04b16a89eff": {
        "id": "31af15d2-7e15-44c5-ab5e-e04b16a89eff",
        "rgb": [
         68,
         68,
         68
        ]
       },
       "50f92c45-a630-455b-aec3-788680ec7410": {
        "id": "50f92c45-a630-455b-aec3-788680ec7410",
        "rgb": [
         155,
         177,
         192
        ]
       },
       "c5cc3653-2ee1-402a-aba2-7caae1da4f6c": {
        "id": "c5cc3653-2ee1-402a-aba2-7caae1da4f6c",
        "rgb": [
         43,
         126,
         184
        ]
       },
       "efa7f048-9acb-414c-8b04-a26811511a21": {
        "id": "efa7f048-9acb-414c-8b04-a26811511a21",
        "rgb": [
         25.118061674008803,
         73.60176211453744,
         107.4819383259912
        ]
       }
      },
      "rules": {
       "blockquote": {
        "color": "50f92c45-a630-455b-aec3-788680ec7410"
       },
       "code": {
        "font-family": "Anonymous Pro"
       },
       "h1": {
        "color": "c5cc3653-2ee1-402a-aba2-7caae1da4f6c",
        "font-family": "Lato",
        "font-size": 8
       },
       "h2": {
        "color": "c5cc3653-2ee1-402a-aba2-7caae1da4f6c",
        "font-family": "Lato",
        "font-size": 6
       },
       "h3": {
        "color": "50f92c45-a630-455b-aec3-788680ec7410",
        "font-family": "Lato",
        "font-size": 5.5
       },
       "h4": {
        "color": "c5cc3653-2ee1-402a-aba2-7caae1da4f6c",
        "font-family": "Lato",
        "font-size": 5
       },
       "h5": {
        "font-family": "Lato"
       },
       "h6": {
        "font-family": "Lato"
       },
       "h7": {
        "font-family": "Lato"
       },
       "pre": {
        "font-family": "Anonymous Pro",
        "font-size": 4
       }
      },
      "text-base": {
       "font-family": "Merriweather",
       "font-size": 4
      }
     },
     "b2713ddf-fcb9-447e-a715-3261952bf8be": {
      "backgrounds": {
       "dc7afa04-bf90-40b1-82a5-726e3cff5267": {
        "background-color": "31af15d2-7e15-44c5-ab5e-e04b16a89eff",
        "id": "dc7afa04-bf90-40b1-82a5-726e3cff5267"
       }
      },
      "id": "b2713ddf-fcb9-447e-a715-3261952bf8be",
      "palette": {
       "19cc588f-0593-49c9-9f4b-e4d7cc113b1c": {
        "id": "19cc588f-0593-49c9-9f4b-e4d7cc113b1c",
        "rgb": [
         252,
         252,
         252
        ]
       },
       "31af15d2-7e15-44c5-ab5e-e04b16a89eff": {
        "id": "31af15d2-7e15-44c5-ab5e-e04b16a89eff",
        "rgb": [
         68,
         68,
         68
        ]
       },
       "50f92c45-a630-455b-aec3-788680ec7410": {
        "id": "50f92c45-a630-455b-aec3-788680ec7410",
        "rgb": [
         197,
         226,
         245
        ]
       },
       "c5cc3653-2ee1-402a-aba2-7caae1da4f6c": {
        "id": "c5cc3653-2ee1-402a-aba2-7caae1da4f6c",
        "rgb": [
         43,
         126,
         184
        ]
       },
       "efa7f048-9acb-414c-8b04-a26811511a21": {
        "id": "efa7f048-9acb-414c-8b04-a26811511a21",
        "rgb": [
         25.118061674008803,
         73.60176211453744,
         107.4819383259912
        ]
       }
      },
      "rules": {
       "a": {
        "color": "19cc588f-0593-49c9-9f4b-e4d7cc113b1c"
       },
       "blockquote": {
        "color": "50f92c45-a630-455b-aec3-788680ec7410",
        "font-size": 3
       },
       "code": {
        "font-family": "Anonymous Pro"
       },
       "h1": {
        "color": "19cc588f-0593-49c9-9f4b-e4d7cc113b1c",
        "font-family": "Merriweather",
        "font-size": 8
       },
       "h2": {
        "color": "19cc588f-0593-49c9-9f4b-e4d7cc113b1c",
        "font-family": "Merriweather",
        "font-size": 6
       },
       "h3": {
        "color": "50f92c45-a630-455b-aec3-788680ec7410",
        "font-family": "Lato",
        "font-size": 5.5
       },
       "h4": {
        "color": "c5cc3653-2ee1-402a-aba2-7caae1da4f6c",
        "font-family": "Lato",
        "font-size": 5
       },
       "h5": {
        "font-family": "Lato"
       },
       "h6": {
        "font-family": "Lato"
       },
       "h7": {
        "font-family": "Lato"
       },
       "li": {
        "color": "50f92c45-a630-455b-aec3-788680ec7410",
        "font-size": 3.25
       },
       "pre": {
        "font-family": "Anonymous Pro",
        "font-size": 4
       }
      },
      "text-base": {
       "color": "19cc588f-0593-49c9-9f4b-e4d7cc113b1c",
       "font-family": "Lato",
       "font-size": 4
      }
     }
    }
   }
  },
  "rise": {
   "chalkboard": {
    "color": [
     "rgb(250, 0, 0)"
    ]
   },
   "enable_chalkboard": false,
   "font-size": "120%",
   "height": "90%",
   "scroll": true,
   "theme": "simple",
   "width": "90%"
  }
 },
 "nbformat": 4,
 "nbformat_minor": 4
}
